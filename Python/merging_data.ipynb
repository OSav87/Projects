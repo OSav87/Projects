{
 "cells": [
  {
   "cell_type": "markdown",
   "id": "526f8a44",
   "metadata": {},
   "source": [
    "## **Python. Работа с грязными данными**\n",
    "\n",
    "### **Описание**\n",
    "\n",
    "Данные имеют следующую структуру:\n",
    "\n",
    "* записываются для каждого пользователя, совершившего покупки, каждый день\n",
    "* для каждой даты есть своя папка, внутри неё – папки для каждого пользователя\n",
    "* внутри каждой папки есть файл data.csv, где и хранятся данные\n",
    "\n",
    "Схематично выглядит так:\n",
    "\n",
    "```\n",
    "└── data\n",
    "   ├── 2020-12-30\n",
    "   │  ├── FirstName_LastName1\n",
    "   │  │   └── data.csv\n",
    "   │  ├── FirstName_LastName2\n",
    "   │  │   └── data.csv\n",
    "   │  └── FirstName_LastName3\n",
    "   │      └── data.csv\n",
    "   └── 2020-12-31\n",
    "      ├── FirstName_LastName1\n",
    "      │   └── data.csv\n",
    "      └── FirstName_LastName5\n",
    "          └── data.csv\n",
    "```\n",
    "          \n",
    "Например, 30 декабря три покупателя сделали покупки, 31 – два (папки 2020-12-30 и 2020-12-31 соответственно). \n",
    "\n",
    "Поскольку клиент FirstName_LastName1 купил товары в оба дня, для него имеется папка в папке для каждой из дат. Для других клиентов – по одной.\n",
    "\n",
    "### **Задачи**\n",
    "\n",
    "* Соберите все данные из папки data в один датафрэйм, имеющий следующие столбцы: колонки из самих файлов (product_id, quantity), а также имя пользователя (name), и дата этих покупок (date, соответствует названию папки, где лежит папка с пользователем)\n",
    "* Выясните, какой пользователь купил больше всего товаров. Если их несколько, то перечислите имена через запятую с пробелом и в алфавитном порядке.\n",
    "* Найдите топ-10 товаров по числу проданных единиц за всё время и постройте барплот. Сколько было продано единиц товара с product_id==56?\n",
    "* Визуализируйте продажи по дням.\n",
    "* Сколько пользователей приобрели какой-либо товар повторно (более 1 раза)? Повтором будем считать покупку товара с одинаковым product_id, совершенную в разные дни."
   ]
  },
  {
   "cell_type": "code",
   "execution_count": 1,
   "id": "852ab72a",
   "metadata": {},
   "outputs": [],
   "source": [
    "# импортируем необходимые библиотеки\n",
    "\n",
    "import pandas as pd\n",
    "import os\n",
    "from pathlib import Path\n",
    "\n",
    "import seaborn as sns\n",
    "import matplotlib.pyplot as plt\n",
    "\n",
    "%matplotlib inline"
   ]
  },
  {
   "cell_type": "markdown",
   "id": "6ce98db7",
   "metadata": {},
   "source": [
    "## **Задание 1. Сбор файлов в датафрэйм**\n",
    "\n",
    "Можем решить эту задачу исклбючительно средствами библиотеки **OS**, или более современный способ с помощью библиотеки **pathlib**\n",
    "\n",
    "Для начала попробуем первый вариант"
   ]
  },
  {
   "cell_type": "code",
   "execution_count": 2,
   "id": "ddbdbb92",
   "metadata": {},
   "outputs": [],
   "source": [
    "# сохраним в переменную путь к папке с данными\n",
    "path = r'C:\\Users\\Oleg Savkin\\Projects\\Python\\mp_01\\MP_Data'"
   ]
  },
  {
   "cell_type": "code",
   "execution_count": 3,
   "id": "f97bada7",
   "metadata": {},
   "outputs": [
    {
     "data": {
      "text/plain": [
       "['2020-12-03',\n",
       " '2020-12-04',\n",
       " '2020-12-05',\n",
       " '2020-12-06',\n",
       " '2020-12-07',\n",
       " '2020-12-08',\n",
       " '2020-12-09']"
      ]
     },
     "execution_count": 3,
     "metadata": {},
     "output_type": "execute_result"
    }
   ],
   "source": [
    "# с помощью метода os.listdir(), можем вывести список файлов или папок лежащих по нашему пути\n",
    "os.listdir(path) "
   ]
  },
  {
   "cell_type": "markdown",
   "id": "25868e6a",
   "metadata": {},
   "source": [
    "С помощью цикла и метода **os.walk()** можем пройтись по всем папкам в указанном пути"
   ]
  },
  {
   "cell_type": "code",
   "execution_count": 4,
   "id": "b63ad622",
   "metadata": {},
   "outputs": [
    {
     "name": "stdout",
     "output_type": "stream",
     "text": [
      "('C:\\\\Users\\\\Oleg Savkin\\\\Projects\\\\Python\\\\mp_01\\\\MP_Data', ['2020-12-03', '2020-12-04', '2020-12-05', '2020-12-06', '2020-12-07', '2020-12-08', '2020-12-09'], [])\n"
     ]
    }
   ],
   "source": [
    "# Посмотрим на небольшом примере, остановив цикл когда он пройдет первую папку и все ее содержимое\n",
    "for i in os.walk(path):\n",
    "    print(i)\n",
    "    break"
   ]
  },
  {
   "cell_type": "code",
   "execution_count": 5,
   "id": "d30238e7",
   "metadata": {},
   "outputs": [
    {
     "name": "stdout",
     "output_type": "stream",
     "text": [
      "('C:\\\\Users\\\\Oleg Savkin\\\\Projects\\\\Python\\\\mp_01\\\\MP_Data\\\\2020-12-05', ['Alexey_Fedorov', 'Alexey_Petrov', 'Kirill_Smirnov', 'Petr_Ivanov', 'Petr_Smirnov', 'Rostislav_Smirnov'], [])\n",
      "('C:\\\\Users\\\\Oleg Savkin\\\\Projects\\\\Python\\\\mp_01\\\\MP_Data\\\\2020-12-05\\\\Alexey_Fedorov', [], ['data.csv'])\n",
      "('C:\\\\Users\\\\Oleg Savkin\\\\Projects\\\\Python\\\\mp_01\\\\MP_Data\\\\2020-12-05\\\\Alexey_Petrov', [], ['data.csv'])\n",
      "('C:\\\\Users\\\\Oleg Savkin\\\\Projects\\\\Python\\\\mp_01\\\\MP_Data\\\\2020-12-05\\\\Kirill_Smirnov', [], ['data.csv'])\n",
      "('C:\\\\Users\\\\Oleg Savkin\\\\Projects\\\\Python\\\\mp_01\\\\MP_Data\\\\2020-12-05\\\\Petr_Ivanov', [], ['data.csv'])\n",
      "('C:\\\\Users\\\\Oleg Savkin\\\\Projects\\\\Python\\\\mp_01\\\\MP_Data\\\\2020-12-05\\\\Petr_Smirnov', [], ['data.csv'])\n",
      "('C:\\\\Users\\\\Oleg Savkin\\\\Projects\\\\Python\\\\mp_01\\\\MP_Data\\\\2020-12-05\\\\Rostislav_Smirnov', [], ['data.csv'])\n"
     ]
    }
   ],
   "source": [
    "# с помощью конкатенации можем пройтись по конкретной папке, например '2020-12-05'\n",
    "for i in os.walk(path + r'\\2020-12-05'):\n",
    "    print(i)"
   ]
  },
  {
   "cell_type": "markdown",
   "id": "94006827",
   "metadata": {},
   "source": [
    "Мы видим, что на выходе мы получаем кортежи, содержащие:\n",
    "* строку (путь к файлу)\n",
    "* список папок лежащих по этому пути\n",
    "* пустой список, означающий. что больше папок в данной директории нет\n",
    "* и в конце список с нашим файлом, лежащим в папке"
   ]
  },
  {
   "cell_type": "code",
   "execution_count": 6,
   "id": "7d45465b",
   "metadata": {},
   "outputs": [
    {
     "data": {
      "text/plain": [
       "('C:\\\\Users\\\\Oleg Savkin\\\\Projects\\\\Python\\\\mp_01\\\\MP_Data\\\\2020-12-03',\n",
       " ['Alexey_Smirnov',\n",
       "  'Anton_Petrov',\n",
       "  'Kirill_Petrov',\n",
       "  'Petr_Fedorov',\n",
       "  'Vasiliy_Ivanov',\n",
       "  'Vasiliy_Petrov'],\n",
       " [])"
      ]
     },
     "execution_count": 6,
     "metadata": {},
     "output_type": "execute_result"
    }
   ],
   "source": [
    "# создадим пустой список куда буду добавлятся полученные с помощью цикла значения\n",
    "folder = []\n",
    "for triple in os.walk(path):\n",
    "    folder.append(triple)\n",
    "folder[1]"
   ]
  },
  {
   "cell_type": "markdown",
   "id": "6efa7ab8",
   "metadata": {},
   "source": [
    "Cоздадим новый датафрейм использовав полученный список"
   ]
  },
  {
   "cell_type": "code",
   "execution_count": 7,
   "id": "284b5629",
   "metadata": {},
   "outputs": [
    {
     "data": {
      "text/html": [
       "<div>\n",
       "<style scoped>\n",
       "    .dataframe tbody tr th:only-of-type {\n",
       "        vertical-align: middle;\n",
       "    }\n",
       "\n",
       "    .dataframe tbody tr th {\n",
       "        vertical-align: top;\n",
       "    }\n",
       "\n",
       "    .dataframe thead th {\n",
       "        text-align: right;\n",
       "    }\n",
       "</style>\n",
       "<table border=\"1\" class=\"dataframe\">\n",
       "  <thead>\n",
       "    <tr style=\"text-align: right;\">\n",
       "      <th></th>\n",
       "      <th>Unnamed: 0</th>\n",
       "      <th>product_id</th>\n",
       "      <th>quantity</th>\n",
       "    </tr>\n",
       "  </thead>\n",
       "  <tbody>\n",
       "    <tr>\n",
       "      <th>0</th>\n",
       "      <td>0</td>\n",
       "      <td>47</td>\n",
       "      <td>1</td>\n",
       "    </tr>\n",
       "    <tr>\n",
       "      <th>1</th>\n",
       "      <td>1</td>\n",
       "      <td>57</td>\n",
       "      <td>1</td>\n",
       "    </tr>\n",
       "    <tr>\n",
       "      <th>2</th>\n",
       "      <td>2</td>\n",
       "      <td>14</td>\n",
       "      <td>2</td>\n",
       "    </tr>\n",
       "    <tr>\n",
       "      <th>3</th>\n",
       "      <td>3</td>\n",
       "      <td>52</td>\n",
       "      <td>1</td>\n",
       "    </tr>\n",
       "    <tr>\n",
       "      <th>4</th>\n",
       "      <td>4</td>\n",
       "      <td>1</td>\n",
       "      <td>4</td>\n",
       "    </tr>\n",
       "    <tr>\n",
       "      <th>...</th>\n",
       "      <td>...</td>\n",
       "      <td>...</td>\n",
       "      <td>...</td>\n",
       "    </tr>\n",
       "    <tr>\n",
       "      <th>1</th>\n",
       "      <td>1</td>\n",
       "      <td>66</td>\n",
       "      <td>4</td>\n",
       "    </tr>\n",
       "    <tr>\n",
       "      <th>2</th>\n",
       "      <td>2</td>\n",
       "      <td>39</td>\n",
       "      <td>2</td>\n",
       "    </tr>\n",
       "    <tr>\n",
       "      <th>0</th>\n",
       "      <td>0</td>\n",
       "      <td>82</td>\n",
       "      <td>4</td>\n",
       "    </tr>\n",
       "    <tr>\n",
       "      <th>1</th>\n",
       "      <td>1</td>\n",
       "      <td>74</td>\n",
       "      <td>2</td>\n",
       "    </tr>\n",
       "    <tr>\n",
       "      <th>2</th>\n",
       "      <td>2</td>\n",
       "      <td>54</td>\n",
       "      <td>3</td>\n",
       "    </tr>\n",
       "  </tbody>\n",
       "</table>\n",
       "<p>161 rows × 3 columns</p>\n",
       "</div>"
      ],
      "text/plain": [
       "    Unnamed: 0  product_id  quantity\n",
       "0            0          47         1\n",
       "1            1          57         1\n",
       "2            2          14         2\n",
       "3            3          52         1\n",
       "4            4           1         4\n",
       "..         ...         ...       ...\n",
       "1            1          66         4\n",
       "2            2          39         2\n",
       "0            0          82         4\n",
       "1            1          74         2\n",
       "2            2          54         3\n",
       "\n",
       "[161 rows x 3 columns]"
      ]
     },
     "execution_count": 7,
     "metadata": {},
     "output_type": "execute_result"
    }
   ],
   "source": [
    "# Считаем данные из каждого файла\n",
    "# С помощью цикла заполним пустой датафрейм нужными нам значениями\n",
    "df = pd.DataFrame()\n",
    "\n",
    "for address, dirs, files in folder:\n",
    "    for file in files:\n",
    "        path_to_file = (f'{address}\\\\{file}') # задаем полный путь для каждого файла\n",
    "        temp_df = pd.read_csv(path_to_file) # каждый новый csv-файл будет перезаписываться в temp_df\n",
    "        df = pd.concat([df, temp_df]) # с помощью метода pd.concat(), вклеиваем temp_df в итоговый df и повторояем цикл\n",
    "\n",
    "df"
   ]
  },
  {
   "cell_type": "markdown",
   "id": "74a7acc1",
   "metadata": {},
   "source": [
    "Теперь нам необходимо создать колонки name (у каждого пользователся своя папка, соответсвующая его имени) и date (соответствует названию папки, где лежит папка с пользователем)"
   ]
  },
  {
   "cell_type": "code",
   "execution_count": 8,
   "id": "27f7e061",
   "metadata": {},
   "outputs": [
    {
     "data": {
      "text/plain": [
       "['C:',\n",
       " 'Users',\n",
       " 'Oleg Savkin',\n",
       " 'Projects',\n",
       " 'Python',\n",
       " 'mp_01',\n",
       " 'MP_Data',\n",
       " '2020-12-05',\n",
       " 'Rostislav_Smirnov']"
      ]
     },
     "execution_count": 8,
     "metadata": {},
     "output_type": "execute_result"
    }
   ],
   "source": [
    "# разберем алгоритм на учебном примере\n",
    "# сохраним в переменную путь до любого плозьзователя\n",
    "path_part = 'C:\\\\Users\\\\Oleg Savkin\\\\Projects\\\\Python\\\\mp_01\\\\MP_Data\\\\2020-12-05\\\\Rostislav_Smirnov' \\\n",
    "            .split('\\\\') # применим метод split() по '\\\\'\n",
    "\n",
    "path_part"
   ]
  },
  {
   "cell_type": "code",
   "execution_count": 9,
   "id": "6de1a20d",
   "metadata": {},
   "outputs": [
    {
     "data": {
      "text/plain": [
       "('Rostislav_Smirnov', '2020-12-05')"
      ]
     },
     "execution_count": 9,
     "metadata": {},
     "output_type": "execute_result"
    }
   ],
   "source": [
    "# теперь мы можем проиндексироваться по списку и присвоить нужные значения переменным\n",
    "name = path_part[-1]\n",
    "date = path_part[-2]\n",
    "\n",
    "name, date"
   ]
  },
  {
   "cell_type": "code",
   "execution_count": 10,
   "id": "3238375f",
   "metadata": {},
   "outputs": [
    {
     "data": {
      "text/html": [
       "<div>\n",
       "<style scoped>\n",
       "    .dataframe tbody tr th:only-of-type {\n",
       "        vertical-align: middle;\n",
       "    }\n",
       "\n",
       "    .dataframe tbody tr th {\n",
       "        vertical-align: top;\n",
       "    }\n",
       "\n",
       "    .dataframe thead th {\n",
       "        text-align: right;\n",
       "    }\n",
       "</style>\n",
       "<table border=\"1\" class=\"dataframe\">\n",
       "  <thead>\n",
       "    <tr style=\"text-align: right;\">\n",
       "      <th></th>\n",
       "      <th>Unnamed: 0</th>\n",
       "      <th>product_id</th>\n",
       "      <th>quantity</th>\n",
       "      <th>name</th>\n",
       "      <th>date</th>\n",
       "    </tr>\n",
       "  </thead>\n",
       "  <tbody>\n",
       "    <tr>\n",
       "      <th>0</th>\n",
       "      <td>0</td>\n",
       "      <td>47</td>\n",
       "      <td>1</td>\n",
       "      <td>Alexey_Smirnov</td>\n",
       "      <td>2020-12-03</td>\n",
       "    </tr>\n",
       "    <tr>\n",
       "      <th>1</th>\n",
       "      <td>1</td>\n",
       "      <td>57</td>\n",
       "      <td>1</td>\n",
       "      <td>Alexey_Smirnov</td>\n",
       "      <td>2020-12-03</td>\n",
       "    </tr>\n",
       "    <tr>\n",
       "      <th>2</th>\n",
       "      <td>2</td>\n",
       "      <td>14</td>\n",
       "      <td>2</td>\n",
       "      <td>Alexey_Smirnov</td>\n",
       "      <td>2020-12-03</td>\n",
       "    </tr>\n",
       "    <tr>\n",
       "      <th>3</th>\n",
       "      <td>3</td>\n",
       "      <td>52</td>\n",
       "      <td>1</td>\n",
       "      <td>Alexey_Smirnov</td>\n",
       "      <td>2020-12-03</td>\n",
       "    </tr>\n",
       "    <tr>\n",
       "      <th>4</th>\n",
       "      <td>4</td>\n",
       "      <td>1</td>\n",
       "      <td>4</td>\n",
       "      <td>Alexey_Smirnov</td>\n",
       "      <td>2020-12-03</td>\n",
       "    </tr>\n",
       "    <tr>\n",
       "      <th>...</th>\n",
       "      <td>...</td>\n",
       "      <td>...</td>\n",
       "      <td>...</td>\n",
       "      <td>...</td>\n",
       "      <td>...</td>\n",
       "    </tr>\n",
       "    <tr>\n",
       "      <th>1</th>\n",
       "      <td>1</td>\n",
       "      <td>66</td>\n",
       "      <td>4</td>\n",
       "      <td>Rostislav_Petrov</td>\n",
       "      <td>2020-12-09</td>\n",
       "    </tr>\n",
       "    <tr>\n",
       "      <th>2</th>\n",
       "      <td>2</td>\n",
       "      <td>39</td>\n",
       "      <td>2</td>\n",
       "      <td>Rostislav_Petrov</td>\n",
       "      <td>2020-12-09</td>\n",
       "    </tr>\n",
       "    <tr>\n",
       "      <th>0</th>\n",
       "      <td>0</td>\n",
       "      <td>82</td>\n",
       "      <td>4</td>\n",
       "      <td>Vasiliy_Ivanov</td>\n",
       "      <td>2020-12-09</td>\n",
       "    </tr>\n",
       "    <tr>\n",
       "      <th>1</th>\n",
       "      <td>1</td>\n",
       "      <td>74</td>\n",
       "      <td>2</td>\n",
       "      <td>Vasiliy_Ivanov</td>\n",
       "      <td>2020-12-09</td>\n",
       "    </tr>\n",
       "    <tr>\n",
       "      <th>2</th>\n",
       "      <td>2</td>\n",
       "      <td>54</td>\n",
       "      <td>3</td>\n",
       "      <td>Vasiliy_Ivanov</td>\n",
       "      <td>2020-12-09</td>\n",
       "    </tr>\n",
       "  </tbody>\n",
       "</table>\n",
       "<p>161 rows × 5 columns</p>\n",
       "</div>"
      ],
      "text/plain": [
       "    Unnamed: 0  product_id  quantity              name        date\n",
       "0            0          47         1    Alexey_Smirnov  2020-12-03\n",
       "1            1          57         1    Alexey_Smirnov  2020-12-03\n",
       "2            2          14         2    Alexey_Smirnov  2020-12-03\n",
       "3            3          52         1    Alexey_Smirnov  2020-12-03\n",
       "4            4           1         4    Alexey_Smirnov  2020-12-03\n",
       "..         ...         ...       ...               ...         ...\n",
       "1            1          66         4  Rostislav_Petrov  2020-12-09\n",
       "2            2          39         2  Rostislav_Petrov  2020-12-09\n",
       "0            0          82         4    Vasiliy_Ivanov  2020-12-09\n",
       "1            1          74         2    Vasiliy_Ivanov  2020-12-09\n",
       "2            2          54         3    Vasiliy_Ivanov  2020-12-09\n",
       "\n",
       "[161 rows x 5 columns]"
      ]
     },
     "execution_count": 10,
     "metadata": {},
     "output_type": "execute_result"
    }
   ],
   "source": [
    "# добавим к нашему циклу новые данные\n",
    "df = pd.DataFrame()\n",
    "\n",
    "for address, dirs, files in folder:\n",
    "    for file in files:\n",
    "        # получаем полный путь к файлу и записываем его в переменную\n",
    "        data_file = (address + '\\\\' + file)\n",
    "        \n",
    "        # считываем данные из каждого файла\n",
    "        temp_df = pd.read_csv(data_file)\n",
    "        \n",
    "        # извлекаем date и name\n",
    "        path_part = address.split('\\\\')\n",
    "        name = path_part[-1]\n",
    "        date = path_part[-2]\n",
    "        \n",
    "        # добавляем колонки\n",
    "        temp_df['name'] = name\n",
    "        temp_df['date'] = date\n",
    "        \n",
    "        # объединям наши датафреймы\n",
    "        df = pd.concat([df, temp_df])\n",
    "\n",
    "df"
   ]
  },
  {
   "cell_type": "code",
   "execution_count": 11,
   "id": "1f1f26f2",
   "metadata": {},
   "outputs": [
    {
     "data": {
      "text/html": [
       "<div>\n",
       "<style scoped>\n",
       "    .dataframe tbody tr th:only-of-type {\n",
       "        vertical-align: middle;\n",
       "    }\n",
       "\n",
       "    .dataframe tbody tr th {\n",
       "        vertical-align: top;\n",
       "    }\n",
       "\n",
       "    .dataframe thead th {\n",
       "        text-align: right;\n",
       "    }\n",
       "</style>\n",
       "<table border=\"1\" class=\"dataframe\">\n",
       "  <thead>\n",
       "    <tr style=\"text-align: right;\">\n",
       "      <th></th>\n",
       "      <th>product_id</th>\n",
       "      <th>quantity</th>\n",
       "      <th>name</th>\n",
       "      <th>date</th>\n",
       "    </tr>\n",
       "  </thead>\n",
       "  <tbody>\n",
       "    <tr>\n",
       "      <th>0</th>\n",
       "      <td>47</td>\n",
       "      <td>1</td>\n",
       "      <td>Alexey_Smirnov</td>\n",
       "      <td>2020-12-03</td>\n",
       "    </tr>\n",
       "    <tr>\n",
       "      <th>1</th>\n",
       "      <td>57</td>\n",
       "      <td>1</td>\n",
       "      <td>Alexey_Smirnov</td>\n",
       "      <td>2020-12-03</td>\n",
       "    </tr>\n",
       "    <tr>\n",
       "      <th>2</th>\n",
       "      <td>14</td>\n",
       "      <td>2</td>\n",
       "      <td>Alexey_Smirnov</td>\n",
       "      <td>2020-12-03</td>\n",
       "    </tr>\n",
       "    <tr>\n",
       "      <th>3</th>\n",
       "      <td>52</td>\n",
       "      <td>1</td>\n",
       "      <td>Alexey_Smirnov</td>\n",
       "      <td>2020-12-03</td>\n",
       "    </tr>\n",
       "    <tr>\n",
       "      <th>4</th>\n",
       "      <td>1</td>\n",
       "      <td>4</td>\n",
       "      <td>Alexey_Smirnov</td>\n",
       "      <td>2020-12-03</td>\n",
       "    </tr>\n",
       "    <tr>\n",
       "      <th>...</th>\n",
       "      <td>...</td>\n",
       "      <td>...</td>\n",
       "      <td>...</td>\n",
       "      <td>...</td>\n",
       "    </tr>\n",
       "    <tr>\n",
       "      <th>156</th>\n",
       "      <td>66</td>\n",
       "      <td>4</td>\n",
       "      <td>Rostislav_Petrov</td>\n",
       "      <td>2020-12-09</td>\n",
       "    </tr>\n",
       "    <tr>\n",
       "      <th>157</th>\n",
       "      <td>39</td>\n",
       "      <td>2</td>\n",
       "      <td>Rostislav_Petrov</td>\n",
       "      <td>2020-12-09</td>\n",
       "    </tr>\n",
       "    <tr>\n",
       "      <th>158</th>\n",
       "      <td>82</td>\n",
       "      <td>4</td>\n",
       "      <td>Vasiliy_Ivanov</td>\n",
       "      <td>2020-12-09</td>\n",
       "    </tr>\n",
       "    <tr>\n",
       "      <th>159</th>\n",
       "      <td>74</td>\n",
       "      <td>2</td>\n",
       "      <td>Vasiliy_Ivanov</td>\n",
       "      <td>2020-12-09</td>\n",
       "    </tr>\n",
       "    <tr>\n",
       "      <th>160</th>\n",
       "      <td>54</td>\n",
       "      <td>3</td>\n",
       "      <td>Vasiliy_Ivanov</td>\n",
       "      <td>2020-12-09</td>\n",
       "    </tr>\n",
       "  </tbody>\n",
       "</table>\n",
       "<p>161 rows × 4 columns</p>\n",
       "</div>"
      ],
      "text/plain": [
       "     product_id  quantity              name        date\n",
       "0            47         1    Alexey_Smirnov  2020-12-03\n",
       "1            57         1    Alexey_Smirnov  2020-12-03\n",
       "2            14         2    Alexey_Smirnov  2020-12-03\n",
       "3            52         1    Alexey_Smirnov  2020-12-03\n",
       "4             1         4    Alexey_Smirnov  2020-12-03\n",
       "..          ...       ...               ...         ...\n",
       "156          66         4  Rostislav_Petrov  2020-12-09\n",
       "157          39         2  Rostislav_Petrov  2020-12-09\n",
       "158          82         4    Vasiliy_Ivanov  2020-12-09\n",
       "159          74         2    Vasiliy_Ivanov  2020-12-09\n",
       "160          54         3    Vasiliy_Ivanov  2020-12-09\n",
       "\n",
       "[161 rows x 4 columns]"
      ]
     },
     "execution_count": 11,
     "metadata": {},
     "output_type": "execute_result"
    }
   ],
   "source": [
    "# удалим ненужную нам колонку и перезапишем\n",
    "df.drop(columns=['Unnamed: 0'], inplace=True)\n",
    "\n",
    "# сбросим индекс\n",
    "df.reset_index(drop=True, inplace=True) \n",
    "\n",
    "# получаем наш итоговый датафрейм\n",
    "df"
   ]
  },
  {
   "cell_type": "markdown",
   "id": "0a4cdb5e",
   "metadata": {},
   "source": [
    "==========================================================================================\n",
    "\n",
    "Теперь попробуем альтернативный способ с помощью pathlib. Нам пригодится модуль Path из это библиотеки"
   ]
  },
  {
   "cell_type": "code",
   "execution_count": 12,
   "id": "8d8a8a30",
   "metadata": {},
   "outputs": [
    {
     "data": {
      "text/plain": [
       "WindowsPath('C:/Users/Oleg Savkin/Projects/Python/mp_01/MP_Data')"
      ]
     },
     "execution_count": 12,
     "metadata": {},
     "output_type": "execute_result"
    }
   ],
   "source": [
    "# теперь наш путь не строка. а отдельный тип данных\n",
    "alt_path = Path(r'C:\\Users\\Oleg Savkin\\Projects\\Python\\mp_01\\MP_Data')\n",
    "alt_path"
   ]
  },
  {
   "cell_type": "code",
   "execution_count": 13,
   "id": "88695dd4",
   "metadata": {},
   "outputs": [
    {
     "data": {
      "text/plain": [
       "<generator object Path.glob at 0x0000022F3A306CF0>"
      ]
     },
     "execution_count": 13,
     "metadata": {},
     "output_type": "execute_result"
    }
   ],
   "source": [
    "# С помощью метода glob и паттерна ```('**/*.csv')``` можем пройтись по по всем папкам\n",
    "alt_path.glob('**/*.csv')"
   ]
  },
  {
   "cell_type": "code",
   "execution_count": 14,
   "id": "062ed921",
   "metadata": {},
   "outputs": [
    {
     "data": {
      "text/html": [
       "<div>\n",
       "<style scoped>\n",
       "    .dataframe tbody tr th:only-of-type {\n",
       "        vertical-align: middle;\n",
       "    }\n",
       "\n",
       "    .dataframe tbody tr th {\n",
       "        vertical-align: top;\n",
       "    }\n",
       "\n",
       "    .dataframe thead th {\n",
       "        text-align: right;\n",
       "    }\n",
       "</style>\n",
       "<table border=\"1\" class=\"dataframe\">\n",
       "  <thead>\n",
       "    <tr style=\"text-align: right;\">\n",
       "      <th></th>\n",
       "      <th>Unnamed: 0</th>\n",
       "      <th>product_id</th>\n",
       "      <th>quantity</th>\n",
       "    </tr>\n",
       "  </thead>\n",
       "  <tbody>\n",
       "    <tr>\n",
       "      <th>0</th>\n",
       "      <td>0</td>\n",
       "      <td>47</td>\n",
       "      <td>1</td>\n",
       "    </tr>\n",
       "    <tr>\n",
       "      <th>1</th>\n",
       "      <td>1</td>\n",
       "      <td>57</td>\n",
       "      <td>1</td>\n",
       "    </tr>\n",
       "    <tr>\n",
       "      <th>2</th>\n",
       "      <td>2</td>\n",
       "      <td>14</td>\n",
       "      <td>2</td>\n",
       "    </tr>\n",
       "    <tr>\n",
       "      <th>3</th>\n",
       "      <td>3</td>\n",
       "      <td>52</td>\n",
       "      <td>1</td>\n",
       "    </tr>\n",
       "    <tr>\n",
       "      <th>4</th>\n",
       "      <td>4</td>\n",
       "      <td>1</td>\n",
       "      <td>4</td>\n",
       "    </tr>\n",
       "    <tr>\n",
       "      <th>...</th>\n",
       "      <td>...</td>\n",
       "      <td>...</td>\n",
       "      <td>...</td>\n",
       "    </tr>\n",
       "    <tr>\n",
       "      <th>1</th>\n",
       "      <td>1</td>\n",
       "      <td>66</td>\n",
       "      <td>4</td>\n",
       "    </tr>\n",
       "    <tr>\n",
       "      <th>2</th>\n",
       "      <td>2</td>\n",
       "      <td>39</td>\n",
       "      <td>2</td>\n",
       "    </tr>\n",
       "    <tr>\n",
       "      <th>0</th>\n",
       "      <td>0</td>\n",
       "      <td>82</td>\n",
       "      <td>4</td>\n",
       "    </tr>\n",
       "    <tr>\n",
       "      <th>1</th>\n",
       "      <td>1</td>\n",
       "      <td>74</td>\n",
       "      <td>2</td>\n",
       "    </tr>\n",
       "    <tr>\n",
       "      <th>2</th>\n",
       "      <td>2</td>\n",
       "      <td>54</td>\n",
       "      <td>3</td>\n",
       "    </tr>\n",
       "  </tbody>\n",
       "</table>\n",
       "<p>161 rows × 3 columns</p>\n",
       "</div>"
      ],
      "text/plain": [
       "    Unnamed: 0  product_id  quantity\n",
       "0            0          47         1\n",
       "1            1          57         1\n",
       "2            2          14         2\n",
       "3            3          52         1\n",
       "4            4           1         4\n",
       "..         ...         ...       ...\n",
       "1            1          66         4\n",
       "2            2          39         2\n",
       "0            0          82         4\n",
       "1            1          74         2\n",
       "2            2          54         3\n",
       "\n",
       "[161 rows x 3 columns]"
      ]
     },
     "execution_count": 14,
     "metadata": {},
     "output_type": "execute_result"
    }
   ],
   "source": [
    "# создаем пустой df, куда будут писаться наши данные\n",
    "df = pd.DataFrame()\n",
    "\n",
    "# проходимся по папкам с помощью цикла и считываем файлы\n",
    "for csv_path in alt_path.glob('**/*.csv'):\n",
    "    temp_df = pd.read_csv(csv_path)\n",
    "    \n",
    "    # объединям наши датафреймы\n",
    "    df = pd.concat([df, temp_df])\n",
    "\n",
    "df"
   ]
  },
  {
   "cell_type": "code",
   "execution_count": 15,
   "id": "4b5cefc8",
   "metadata": {},
   "outputs": [
    {
     "data": {
      "text/plain": [
       "('C:\\\\',\n",
       " 'Users',\n",
       " 'Oleg Savkin',\n",
       " 'Projects',\n",
       " 'Python',\n",
       " 'mp_01',\n",
       " 'MP_Data',\n",
       " '2020-12-09',\n",
       " 'Vasiliy_Ivanov',\n",
       " 'data.csv')"
      ]
     },
     "execution_count": 15,
     "metadata": {},
     "output_type": "execute_result"
    }
   ],
   "source": [
    "# для извлечения имени и даты ипользуем атрибут parts() из библиотеки pathlib\n",
    "# как видиим, индексация сдвинется на один пункт, так как индекс [-1] будет именем файла\n",
    "csv_path.parts"
   ]
  },
  {
   "cell_type": "code",
   "execution_count": 16,
   "id": "8018bc5b",
   "metadata": {},
   "outputs": [
    {
     "data": {
      "text/html": [
       "<div>\n",
       "<style scoped>\n",
       "    .dataframe tbody tr th:only-of-type {\n",
       "        vertical-align: middle;\n",
       "    }\n",
       "\n",
       "    .dataframe tbody tr th {\n",
       "        vertical-align: top;\n",
       "    }\n",
       "\n",
       "    .dataframe thead th {\n",
       "        text-align: right;\n",
       "    }\n",
       "</style>\n",
       "<table border=\"1\" class=\"dataframe\">\n",
       "  <thead>\n",
       "    <tr style=\"text-align: right;\">\n",
       "      <th></th>\n",
       "      <th>product_id</th>\n",
       "      <th>quantity</th>\n",
       "      <th>name</th>\n",
       "      <th>date</th>\n",
       "    </tr>\n",
       "  </thead>\n",
       "  <tbody>\n",
       "    <tr>\n",
       "      <th>0</th>\n",
       "      <td>47</td>\n",
       "      <td>1</td>\n",
       "      <td>Alexey_Smirnov</td>\n",
       "      <td>2020-12-03</td>\n",
       "    </tr>\n",
       "    <tr>\n",
       "      <th>1</th>\n",
       "      <td>57</td>\n",
       "      <td>1</td>\n",
       "      <td>Alexey_Smirnov</td>\n",
       "      <td>2020-12-03</td>\n",
       "    </tr>\n",
       "    <tr>\n",
       "      <th>2</th>\n",
       "      <td>14</td>\n",
       "      <td>2</td>\n",
       "      <td>Alexey_Smirnov</td>\n",
       "      <td>2020-12-03</td>\n",
       "    </tr>\n",
       "    <tr>\n",
       "      <th>3</th>\n",
       "      <td>52</td>\n",
       "      <td>1</td>\n",
       "      <td>Alexey_Smirnov</td>\n",
       "      <td>2020-12-03</td>\n",
       "    </tr>\n",
       "    <tr>\n",
       "      <th>4</th>\n",
       "      <td>1</td>\n",
       "      <td>4</td>\n",
       "      <td>Alexey_Smirnov</td>\n",
       "      <td>2020-12-03</td>\n",
       "    </tr>\n",
       "    <tr>\n",
       "      <th>...</th>\n",
       "      <td>...</td>\n",
       "      <td>...</td>\n",
       "      <td>...</td>\n",
       "      <td>...</td>\n",
       "    </tr>\n",
       "    <tr>\n",
       "      <th>156</th>\n",
       "      <td>66</td>\n",
       "      <td>4</td>\n",
       "      <td>Rostislav_Petrov</td>\n",
       "      <td>2020-12-09</td>\n",
       "    </tr>\n",
       "    <tr>\n",
       "      <th>157</th>\n",
       "      <td>39</td>\n",
       "      <td>2</td>\n",
       "      <td>Rostislav_Petrov</td>\n",
       "      <td>2020-12-09</td>\n",
       "    </tr>\n",
       "    <tr>\n",
       "      <th>158</th>\n",
       "      <td>82</td>\n",
       "      <td>4</td>\n",
       "      <td>Vasiliy_Ivanov</td>\n",
       "      <td>2020-12-09</td>\n",
       "    </tr>\n",
       "    <tr>\n",
       "      <th>159</th>\n",
       "      <td>74</td>\n",
       "      <td>2</td>\n",
       "      <td>Vasiliy_Ivanov</td>\n",
       "      <td>2020-12-09</td>\n",
       "    </tr>\n",
       "    <tr>\n",
       "      <th>160</th>\n",
       "      <td>54</td>\n",
       "      <td>3</td>\n",
       "      <td>Vasiliy_Ivanov</td>\n",
       "      <td>2020-12-09</td>\n",
       "    </tr>\n",
       "  </tbody>\n",
       "</table>\n",
       "<p>161 rows × 4 columns</p>\n",
       "</div>"
      ],
      "text/plain": [
       "     product_id  quantity              name        date\n",
       "0            47         1    Alexey_Smirnov  2020-12-03\n",
       "1            57         1    Alexey_Smirnov  2020-12-03\n",
       "2            14         2    Alexey_Smirnov  2020-12-03\n",
       "3            52         1    Alexey_Smirnov  2020-12-03\n",
       "4             1         4    Alexey_Smirnov  2020-12-03\n",
       "..          ...       ...               ...         ...\n",
       "156          66         4  Rostislav_Petrov  2020-12-09\n",
       "157          39         2  Rostislav_Petrov  2020-12-09\n",
       "158          82         4    Vasiliy_Ivanov  2020-12-09\n",
       "159          74         2    Vasiliy_Ivanov  2020-12-09\n",
       "160          54         3    Vasiliy_Ivanov  2020-12-09\n",
       "\n",
       "[161 rows x 4 columns]"
      ]
     },
     "execution_count": 16,
     "metadata": {},
     "output_type": "execute_result"
    }
   ],
   "source": [
    "# соберем наш итоговый датафрейм\n",
    "df = pd.DataFrame()\n",
    "\n",
    "for csv_path in alt_path.glob('**/*.csv'):\n",
    "    temp_df = pd.read_csv(csv_path)\n",
    "    \n",
    "    # извлекаем имя и дату\n",
    "    name = csv_path.parts[-2]\n",
    "    date = csv_path.parts[-3]\n",
    "\n",
    "    # добавляем колонки\n",
    "    temp_df['name'] = name\n",
    "    temp_df['date'] = date\n",
    "\n",
    "    # объеденим наши датафреймы\n",
    "    df = pd.concat([df, temp_df])\n",
    "\n",
    "# так же удалим ненужную нам колонку и сбросим индекс\n",
    "df.drop(columns=['Unnamed: 0'], inplace=True)\n",
    "df.reset_index(drop=True, inplace=True) \n",
    "\n",
    "df"
   ]
  },
  {
   "cell_type": "markdown",
   "id": "31261fce",
   "metadata": {},
   "source": [
    "### **Задача 2. Топ клиент по числу покупок**\n",
    "Выясните, какой пользователь купил больше всего товаров. Если их несколько, то перечислите имена через запятую с пробелом и в алфавитном порядке."
   ]
  },
  {
   "cell_type": "code",
   "execution_count": 17,
   "id": "46444d4a",
   "metadata": {},
   "outputs": [
    {
     "data": {
      "text/html": [
       "<div>\n",
       "<style scoped>\n",
       "    .dataframe tbody tr th:only-of-type {\n",
       "        vertical-align: middle;\n",
       "    }\n",
       "\n",
       "    .dataframe tbody tr th {\n",
       "        vertical-align: top;\n",
       "    }\n",
       "\n",
       "    .dataframe thead th {\n",
       "        text-align: right;\n",
       "    }\n",
       "</style>\n",
       "<table border=\"1\" class=\"dataframe\">\n",
       "  <thead>\n",
       "    <tr style=\"text-align: right;\">\n",
       "      <th></th>\n",
       "      <th>quantity</th>\n",
       "    </tr>\n",
       "    <tr>\n",
       "      <th>name</th>\n",
       "      <th></th>\n",
       "    </tr>\n",
       "  </thead>\n",
       "  <tbody>\n",
       "    <tr>\n",
       "      <th>Alexey_Smirnov</th>\n",
       "      <td>52</td>\n",
       "    </tr>\n",
       "    <tr>\n",
       "      <th>Petr_Smirnov</th>\n",
       "      <td>52</td>\n",
       "    </tr>\n",
       "    <tr>\n",
       "      <th>Anton_Smirnov</th>\n",
       "      <td>45</td>\n",
       "    </tr>\n",
       "    <tr>\n",
       "      <th>Petr_Fedorov</th>\n",
       "      <td>34</td>\n",
       "    </tr>\n",
       "    <tr>\n",
       "      <th>Kirill_Fedorov</th>\n",
       "      <td>28</td>\n",
       "    </tr>\n",
       "    <tr>\n",
       "      <th>Rostislav_Petrov</th>\n",
       "      <td>28</td>\n",
       "    </tr>\n",
       "    <tr>\n",
       "      <th>Vasiliy_Ivanov</th>\n",
       "      <td>27</td>\n",
       "    </tr>\n",
       "    <tr>\n",
       "      <th>Alexey_Fedorov</th>\n",
       "      <td>24</td>\n",
       "    </tr>\n",
       "    <tr>\n",
       "      <th>Anton_Ivanov</th>\n",
       "      <td>23</td>\n",
       "    </tr>\n",
       "    <tr>\n",
       "      <th>Petr_Ivanov</th>\n",
       "      <td>21</td>\n",
       "    </tr>\n",
       "    <tr>\n",
       "      <th>Anton_Petrov</th>\n",
       "      <td>18</td>\n",
       "    </tr>\n",
       "    <tr>\n",
       "      <th>Kirill_Smirnov</th>\n",
       "      <td>17</td>\n",
       "    </tr>\n",
       "    <tr>\n",
       "      <th>Alexey_Ivanov</th>\n",
       "      <td>17</td>\n",
       "    </tr>\n",
       "    <tr>\n",
       "      <th>Rostislav_Smirnov</th>\n",
       "      <td>17</td>\n",
       "    </tr>\n",
       "    <tr>\n",
       "      <th>Rostislav_Fedorov</th>\n",
       "      <td>16</td>\n",
       "    </tr>\n",
       "    <tr>\n",
       "      <th>Vasiliy_Fedorov</th>\n",
       "      <td>15</td>\n",
       "    </tr>\n",
       "    <tr>\n",
       "      <th>Petr_Petrov</th>\n",
       "      <td>14</td>\n",
       "    </tr>\n",
       "    <tr>\n",
       "      <th>Kirill_Petrov</th>\n",
       "      <td>9</td>\n",
       "    </tr>\n",
       "    <tr>\n",
       "      <th>Rostislav_Ivanov</th>\n",
       "      <td>9</td>\n",
       "    </tr>\n",
       "    <tr>\n",
       "      <th>Alexey_Petrov</th>\n",
       "      <td>7</td>\n",
       "    </tr>\n",
       "    <tr>\n",
       "      <th>Vasiliy_Petrov</th>\n",
       "      <td>7</td>\n",
       "    </tr>\n",
       "  </tbody>\n",
       "</table>\n",
       "</div>"
      ],
      "text/plain": [
       "                   quantity\n",
       "name                       \n",
       "Alexey_Smirnov           52\n",
       "Petr_Smirnov             52\n",
       "Anton_Smirnov            45\n",
       "Petr_Fedorov             34\n",
       "Kirill_Fedorov           28\n",
       "Rostislav_Petrov         28\n",
       "Vasiliy_Ivanov           27\n",
       "Alexey_Fedorov           24\n",
       "Anton_Ivanov             23\n",
       "Petr_Ivanov              21\n",
       "Anton_Petrov             18\n",
       "Kirill_Smirnov           17\n",
       "Alexey_Ivanov            17\n",
       "Rostislav_Smirnov        17\n",
       "Rostislav_Fedorov        16\n",
       "Vasiliy_Fedorov          15\n",
       "Petr_Petrov              14\n",
       "Kirill_Petrov             9\n",
       "Rostislav_Ivanov          9\n",
       "Alexey_Petrov             7\n",
       "Vasiliy_Petrov            7"
      ]
     },
     "execution_count": 17,
     "metadata": {},
     "output_type": "execute_result"
    }
   ],
   "source": [
    "# группируемся по пользователям\n",
    "# агрегируем по колонке quantity и посчитаем сумму покупок для каждого пользователя\n",
    "# и отсортируем по убыванию\n",
    "\n",
    "df.groupby('name') \\\n",
    "    .agg({'quantity' : 'sum'}) \\\n",
    "    .sort_values('quantity', ascending=False)"
   ]
  },
  {
   "cell_type": "markdown",
   "id": "4b030d2a",
   "metadata": {},
   "source": [
    "Ответ: Alexey_Smirnov, Petr_Smirnov"
   ]
  },
  {
   "cell_type": "markdown",
   "id": "f29dcd99",
   "metadata": {},
   "source": [
    "### **Задача 3. Топ 10 проданных товаров**\n",
    "Найдите топ-10 товаров по числу проданных единиц за всё время и постройте барплот где:\n",
    "\n",
    "* по оси x – идентификаторы товаров (product_id) \n",
    "* по оси y – суммарное число их покупок (сколько товаров с таким product_id было продано)\n",
    "\n",
    "Для практики попробуйте изменить параметры графика: цвет (color), прозрачность (alpha), сортировку значений по оси х (order). \n",
    "\n",
    "В качестве ответа укажите, сколько было продано единиц товара с product_id равным 56."
   ]
  },
  {
   "cell_type": "code",
   "execution_count": 18,
   "id": "f39273a8",
   "metadata": {},
   "outputs": [
    {
     "data": {
      "text/html": [
       "<div>\n",
       "<style scoped>\n",
       "    .dataframe tbody tr th:only-of-type {\n",
       "        vertical-align: middle;\n",
       "    }\n",
       "\n",
       "    .dataframe tbody tr th {\n",
       "        vertical-align: top;\n",
       "    }\n",
       "\n",
       "    .dataframe thead th {\n",
       "        text-align: right;\n",
       "    }\n",
       "</style>\n",
       "<table border=\"1\" class=\"dataframe\">\n",
       "  <thead>\n",
       "    <tr style=\"text-align: right;\">\n",
       "      <th></th>\n",
       "      <th>product_id</th>\n",
       "      <th>quantity</th>\n",
       "      <th>name</th>\n",
       "      <th>date</th>\n",
       "    </tr>\n",
       "  </thead>\n",
       "  <tbody>\n",
       "    <tr>\n",
       "      <th>0</th>\n",
       "      <td>47</td>\n",
       "      <td>1</td>\n",
       "      <td>Alexey_Smirnov</td>\n",
       "      <td>2020-12-03</td>\n",
       "    </tr>\n",
       "    <tr>\n",
       "      <th>1</th>\n",
       "      <td>57</td>\n",
       "      <td>1</td>\n",
       "      <td>Alexey_Smirnov</td>\n",
       "      <td>2020-12-03</td>\n",
       "    </tr>\n",
       "    <tr>\n",
       "      <th>2</th>\n",
       "      <td>14</td>\n",
       "      <td>2</td>\n",
       "      <td>Alexey_Smirnov</td>\n",
       "      <td>2020-12-03</td>\n",
       "    </tr>\n",
       "    <tr>\n",
       "      <th>3</th>\n",
       "      <td>52</td>\n",
       "      <td>1</td>\n",
       "      <td>Alexey_Smirnov</td>\n",
       "      <td>2020-12-03</td>\n",
       "    </tr>\n",
       "    <tr>\n",
       "      <th>4</th>\n",
       "      <td>1</td>\n",
       "      <td>4</td>\n",
       "      <td>Alexey_Smirnov</td>\n",
       "      <td>2020-12-03</td>\n",
       "    </tr>\n",
       "  </tbody>\n",
       "</table>\n",
       "</div>"
      ],
      "text/plain": [
       "   product_id  quantity            name        date\n",
       "0          47         1  Alexey_Smirnov  2020-12-03\n",
       "1          57         1  Alexey_Smirnov  2020-12-03\n",
       "2          14         2  Alexey_Smirnov  2020-12-03\n",
       "3          52         1  Alexey_Smirnov  2020-12-03\n",
       "4           1         4  Alexey_Smirnov  2020-12-03"
      ]
     },
     "execution_count": 18,
     "metadata": {},
     "output_type": "execute_result"
    }
   ],
   "source": [
    "df.head()"
   ]
  },
  {
   "cell_type": "code",
   "execution_count": 19,
   "id": "c804a23b",
   "metadata": {},
   "outputs": [
    {
     "data": {
      "text/html": [
       "<div>\n",
       "<style scoped>\n",
       "    .dataframe tbody tr th:only-of-type {\n",
       "        vertical-align: middle;\n",
       "    }\n",
       "\n",
       "    .dataframe tbody tr th {\n",
       "        vertical-align: top;\n",
       "    }\n",
       "\n",
       "    .dataframe thead th {\n",
       "        text-align: right;\n",
       "    }\n",
       "</style>\n",
       "<table border=\"1\" class=\"dataframe\">\n",
       "  <thead>\n",
       "    <tr style=\"text-align: right;\">\n",
       "      <th></th>\n",
       "      <th>product_id</th>\n",
       "      <th>quantity</th>\n",
       "    </tr>\n",
       "  </thead>\n",
       "  <tbody>\n",
       "    <tr>\n",
       "      <th>22</th>\n",
       "      <td>27</td>\n",
       "      <td>20</td>\n",
       "    </tr>\n",
       "    <tr>\n",
       "      <th>42</th>\n",
       "      <td>56</td>\n",
       "      <td>18</td>\n",
       "    </tr>\n",
       "    <tr>\n",
       "      <th>21</th>\n",
       "      <td>24</td>\n",
       "      <td>15</td>\n",
       "    </tr>\n",
       "    <tr>\n",
       "      <th>51</th>\n",
       "      <td>74</td>\n",
       "      <td>15</td>\n",
       "    </tr>\n",
       "    <tr>\n",
       "      <th>32</th>\n",
       "      <td>41</td>\n",
       "      <td>14</td>\n",
       "    </tr>\n",
       "    <tr>\n",
       "      <th>27</th>\n",
       "      <td>34</td>\n",
       "      <td>13</td>\n",
       "    </tr>\n",
       "    <tr>\n",
       "      <th>66</th>\n",
       "      <td>94</td>\n",
       "      <td>13</td>\n",
       "    </tr>\n",
       "    <tr>\n",
       "      <th>46</th>\n",
       "      <td>66</td>\n",
       "      <td>13</td>\n",
       "    </tr>\n",
       "    <tr>\n",
       "      <th>65</th>\n",
       "      <td>92</td>\n",
       "      <td>12</td>\n",
       "    </tr>\n",
       "    <tr>\n",
       "      <th>38</th>\n",
       "      <td>50</td>\n",
       "      <td>12</td>\n",
       "    </tr>\n",
       "  </tbody>\n",
       "</table>\n",
       "</div>"
      ],
      "text/plain": [
       "    product_id  quantity\n",
       "22          27        20\n",
       "42          56        18\n",
       "21          24        15\n",
       "51          74        15\n",
       "32          41        14\n",
       "27          34        13\n",
       "66          94        13\n",
       "46          66        13\n",
       "65          92        12\n",
       "38          50        12"
      ]
     },
     "execution_count": 19,
     "metadata": {},
     "output_type": "execute_result"
    }
   ],
   "source": [
    "# группируем по product_id\n",
    "# и считаем сумму по колонке quantity\n",
    "# сортируем значения по убыванию\n",
    "# с помощью head(10) выведем топ-10 значений\n",
    "\n",
    "top_10 = df.groupby('product_id', as_index=False) \\\n",
    "           .agg({'quantity' : 'sum'}) \\\n",
    "           .sort_values('quantity', ascending=False) \\\n",
    "           .head(10)\n",
    "\n",
    "top_10"
   ]
  },
  {
   "cell_type": "code",
   "execution_count": 20,
   "id": "f7c9a087",
   "metadata": {},
   "outputs": [
    {
     "data": {
      "text/plain": [
       "<AxesSubplot:xlabel='product_id', ylabel='quantity'>"
      ]
     },
     "execution_count": 20,
     "metadata": {},
     "output_type": "execute_result"
    },
    {
     "data": {
      "image/png": "[encoded data removed]",
      "text/plain": [
       "<Figure size 432x288 with 1 Axes>"
      ]
     },
     "metadata": {
      "needs_background": "light"
     },
     "output_type": "display_data"
    }
   ],
   "source": [
    "# построим барплот\n",
    "sns.barplot(x='product_id', y='quantity', data=top_10)"
   ]
  },
  {
   "cell_type": "code",
   "execution_count": 21,
   "id": "3e4fa6bc",
   "metadata": {},
   "outputs": [
    {
     "data": {
      "text/plain": [
       "<AxesSubplot:xlabel='product_id', ylabel='quantity'>"
      ]
     },
     "execution_count": 21,
     "metadata": {},
     "output_type": "execute_result"
    },
    {
     "data": {
      "image/png": "[encoded data removed]",
      "text/plain": [
       "<Figure size 432x288 with 1 Axes>"
      ]
     },
     "metadata": {
      "needs_background": "light"
     },
     "output_type": "display_data"
    }
   ],
   "source": [
    "# параметр color='x' - отвечает за цвет графика\n",
    "sns.barplot(x='product_id', y='quantity', data=top_10, color=\"green\")"
   ]
  },
  {
   "cell_type": "code",
   "execution_count": 22,
   "id": "ac3763fc",
   "metadata": {},
   "outputs": [
    {
     "data": {
      "text/plain": [
       "<AxesSubplot:xlabel='product_id', ylabel='quantity'>"
      ]
     },
     "execution_count": 22,
     "metadata": {},
     "output_type": "execute_result"
    },
    {
     "data": {
      "image/png": "[encoded data removed]",
      "text/plain": [
       "<Figure size 432x288 with 1 Axes>"
      ]
     },
     "metadata": {
      "needs_background": "light"
     },
     "output_type": "display_data"
    }
   ],
   "source": [
    "# параметр palette=\"x\" - разные палитры цветов\n",
    "# цвета можно посмотреть на сайте seaborn\n",
    "sns.barplot(x='product_id', y='quantity', data=top_10, palette=\"Set2\")"
   ]
  },
  {
   "cell_type": "code",
   "execution_count": 23,
   "id": "d0ac573b",
   "metadata": {},
   "outputs": [
    {
     "data": {
      "text/plain": [
       "<AxesSubplot:xlabel='product_id', ylabel='quantity'>"
      ]
     },
     "execution_count": 23,
     "metadata": {},
     "output_type": "execute_result"
    },
    {
     "data": {
      "image/png": "[encoded data removed]",
      "text/plain": [
       "<Figure size 432x288 with 1 Axes>"
      ]
     },
     "metadata": {
      "needs_background": "light"
     },
     "output_type": "display_data"
    }
   ],
   "source": [
    "# параметр alpha=\"x\" - отвечает за прозрачность. Указывается дробным значением (проценты)\n",
    "sns.barplot(x='product_id', y='quantity', data=top_10,  alpha=0.75)"
   ]
  },
  {
   "cell_type": "markdown",
   "id": "d366fb7f",
   "metadata": {},
   "source": [
    "От нас требуется указать сколько было продано единиц товара с product_id равным 56\n",
    "\n",
    "На графике это не очень хорошо видно, отфильтруем нужное нам значение"
   ]
  },
  {
   "cell_type": "code",
   "execution_count": 24,
   "id": "227be959",
   "metadata": {},
   "outputs": [
    {
     "data": {
      "text/html": [
       "<div>\n",
       "<style scoped>\n",
       "    .dataframe tbody tr th:only-of-type {\n",
       "        vertical-align: middle;\n",
       "    }\n",
       "\n",
       "    .dataframe tbody tr th {\n",
       "        vertical-align: top;\n",
       "    }\n",
       "\n",
       "    .dataframe thead th {\n",
       "        text-align: right;\n",
       "    }\n",
       "</style>\n",
       "<table border=\"1\" class=\"dataframe\">\n",
       "  <thead>\n",
       "    <tr style=\"text-align: right;\">\n",
       "      <th></th>\n",
       "      <th>product_id</th>\n",
       "      <th>quantity</th>\n",
       "    </tr>\n",
       "  </thead>\n",
       "  <tbody>\n",
       "    <tr>\n",
       "      <th>42</th>\n",
       "      <td>56</td>\n",
       "      <td>18</td>\n",
       "    </tr>\n",
       "  </tbody>\n",
       "</table>\n",
       "</div>"
      ],
      "text/plain": [
       "    product_id  quantity\n",
       "42          56        18"
      ]
     },
     "execution_count": 24,
     "metadata": {},
     "output_type": "execute_result"
    }
   ],
   "source": [
    "top_10.query('product_id == 56')"
   ]
  },
  {
   "cell_type": "markdown",
   "id": "94d676e3",
   "metadata": {},
   "source": [
    "Ответ - 18"
   ]
  },
  {
   "cell_type": "markdown",
   "id": "63bb8dfb",
   "metadata": {},
   "source": [
    "=========================================================================================="
   ]
  },
  {
   "cell_type": "markdown",
   "id": "3473c33f",
   "metadata": {},
   "source": [
    "### **Задача 4. Продажи по дням**\n",
    "Посмотрим на продажи по дням! \n",
    "\n",
    "Для визуализации снова используйте барплот, только теперь по оси x будут дни, по которым у нас есть данные (date). Далее выберите верные утверждения:\n",
    "\n",
    "* 5 декабря было куплено почти в два раза больше товаров, чем в предыдущий день\n",
    "* 8 и 9 декабря было продано примерно одинаковое число товаров\n",
    "* 4 декабря было куплено почти в два раза больше товаров, чем в предыдущий день\n",
    "* Максимальное число товаров было продано 4 декабря\n",
    "* Меньше всего товаров было приобретено 6 декабря\n",
    "* Меньше всего продуктов было приобретено 4 декабря\n",
    "* 7 декабря было куплено почти в два раза больше товаров, чем в предыдущий день\n",
    "* 5 декабря было куплено почти в три раза меньше товаров, чем в предыдущий день"
   ]
  },
  {
   "cell_type": "code",
   "execution_count": 25,
   "id": "f789e21b",
   "metadata": {},
   "outputs": [
    {
     "data": {
      "text/html": [
       "<div>\n",
       "<style scoped>\n",
       "    .dataframe tbody tr th:only-of-type {\n",
       "        vertical-align: middle;\n",
       "    }\n",
       "\n",
       "    .dataframe tbody tr th {\n",
       "        vertical-align: top;\n",
       "    }\n",
       "\n",
       "    .dataframe thead th {\n",
       "        text-align: right;\n",
       "    }\n",
       "</style>\n",
       "<table border=\"1\" class=\"dataframe\">\n",
       "  <thead>\n",
       "    <tr style=\"text-align: right;\">\n",
       "      <th></th>\n",
       "      <th>date</th>\n",
       "      <th>quantity</th>\n",
       "    </tr>\n",
       "  </thead>\n",
       "  <tbody>\n",
       "    <tr>\n",
       "      <th>0</th>\n",
       "      <td>2020-12-03</td>\n",
       "      <td>60</td>\n",
       "    </tr>\n",
       "    <tr>\n",
       "      <th>1</th>\n",
       "      <td>2020-12-04</td>\n",
       "      <td>113</td>\n",
       "    </tr>\n",
       "    <tr>\n",
       "      <th>2</th>\n",
       "      <td>2020-12-05</td>\n",
       "      <td>61</td>\n",
       "    </tr>\n",
       "    <tr>\n",
       "      <th>3</th>\n",
       "      <td>2020-12-06</td>\n",
       "      <td>15</td>\n",
       "    </tr>\n",
       "    <tr>\n",
       "      <th>4</th>\n",
       "      <td>2020-12-07</td>\n",
       "      <td>94</td>\n",
       "    </tr>\n",
       "    <tr>\n",
       "      <th>5</th>\n",
       "      <td>2020-12-08</td>\n",
       "      <td>68</td>\n",
       "    </tr>\n",
       "    <tr>\n",
       "      <th>6</th>\n",
       "      <td>2020-12-09</td>\n",
       "      <td>69</td>\n",
       "    </tr>\n",
       "  </tbody>\n",
       "</table>\n",
       "</div>"
      ],
      "text/plain": [
       "         date  quantity\n",
       "0  2020-12-03        60\n",
       "1  2020-12-04       113\n",
       "2  2020-12-05        61\n",
       "3  2020-12-06        15\n",
       "4  2020-12-07        94\n",
       "5  2020-12-08        68\n",
       "6  2020-12-09        69"
      ]
     },
     "execution_count": 25,
     "metadata": {},
     "output_type": "execute_result"
    }
   ],
   "source": [
    "# сгруппируемся по дате\n",
    "# посчитаем сумму по кол-ву продаж\n",
    "# отсортируемся по дате\n",
    "\n",
    "days = df.groupby('date', as_index=False) \\\n",
    "         .agg({'quantity' : 'sum'}) \\\n",
    "         .sort_values('date')\n",
    "\n",
    "days"
   ]
  },
  {
   "cell_type": "code",
   "execution_count": 26,
   "id": "e3ed6b20",
   "metadata": {},
   "outputs": [
    {
     "data": {
      "text/plain": [
       "<AxesSubplot:xlabel='date', ylabel='quantity'>"
      ]
     },
     "execution_count": 26,
     "metadata": {},
     "output_type": "execute_result"
    },
    {
     "data": {
      "image/png": "[encoded data removed]",
      "text/plain": [
       "<Figure size 864x432 with 1 Axes>"
      ]
     },
     "metadata": {
      "needs_background": "light"
     },
     "output_type": "display_data"
    }
   ],
   "source": [
    "#  построим барплот и увеличим график чтобы было лучше видно\n",
    "\n",
    "plt.figure(figsize=(12, 6))\n",
    "sns.barplot(x='date', y='quantity', data=days)"
   ]
  },
  {
   "cell_type": "markdown",
   "id": "35cc38e2",
   "metadata": {},
   "source": [
    "Ответ:\n",
    "\n",
    "* 5 декабря было куплено почти в два раза больше товаров, чем в предыдущий день\n",
    "* 8 и 9 декабря было продано примерно одинаковое число товаров - верно\n",
    "* 4 декабря было куплено почти в два раза больше товаров, чем в предыдущий день - верно\n",
    "* Максимальное число товаров было продано 4 декабря - верно\n",
    "* Меньше всего товаров было приобретено 6 декабря - верно\n",
    "* Меньше всего продуктов было приобретено 4 декабря\n",
    "* 7 декабря было куплено почти в два раза больше товаров, чем в предыдущий день\n",
    "* 5 декабря было куплено почти в три раза меньше товаров, чем в предыдущий день"
   ]
  },
  {
   "cell_type": "markdown",
   "id": "28beb0ef",
   "metadata": {},
   "source": [
    "=========================================================================================="
   ]
  },
  {
   "cell_type": "markdown",
   "id": "60086406",
   "metadata": {},
   "source": [
    "### **Задача 5. Поиск повторных покупок**\n",
    "\n",
    "Сколько пользователей приобрели какой-либо товар повторно (более 1 раза)? Повтором будем считать покупку товара с одинаковым product_id, совершенную в разные дни."
   ]
  },
  {
   "cell_type": "code",
   "execution_count": 27,
   "id": "4ecee7da",
   "metadata": {},
   "outputs": [
    {
     "data": {
      "text/html": [
       "<div>\n",
       "<style scoped>\n",
       "    .dataframe tbody tr th:only-of-type {\n",
       "        vertical-align: middle;\n",
       "    }\n",
       "\n",
       "    .dataframe tbody tr th {\n",
       "        vertical-align: top;\n",
       "    }\n",
       "\n",
       "    .dataframe thead th {\n",
       "        text-align: right;\n",
       "    }\n",
       "</style>\n",
       "<table border=\"1\" class=\"dataframe\">\n",
       "  <thead>\n",
       "    <tr style=\"text-align: right;\">\n",
       "      <th></th>\n",
       "      <th>name</th>\n",
       "      <th>product_id</th>\n",
       "      <th>purchases_count</th>\n",
       "    </tr>\n",
       "  </thead>\n",
       "  <tbody>\n",
       "    <tr>\n",
       "      <th>37</th>\n",
       "      <td>Anton_Ivanov</td>\n",
       "      <td>15</td>\n",
       "      <td>2</td>\n",
       "    </tr>\n",
       "    <tr>\n",
       "      <th>92</th>\n",
       "      <td>Petr_Fedorov</td>\n",
       "      <td>94</td>\n",
       "      <td>2</td>\n",
       "    </tr>\n",
       "  </tbody>\n",
       "</table>\n",
       "</div>"
      ],
      "text/plain": [
       "            name  product_id  purchases_count\n",
       "37  Anton_Ivanov          15                2\n",
       "92  Petr_Fedorov          94                2"
      ]
     },
     "execution_count": 27,
     "metadata": {},
     "output_type": "execute_result"
    }
   ],
   "source": [
    "# сгруппируемся по имени и product_id\n",
    "# посчитаем кол-во уникальных дат для этих групп и по факту получим кол-во уникальных покупок в разные дни\n",
    "# переименуем колонку для наглядности\n",
    "# отфильтруем пользователей с кол-вом покупок больше 1 и получим наш ответ\n",
    "\n",
    "df.groupby(['name', 'product_id'], as_index=False) \\\n",
    "  .agg({'date' : 'nunique'}) \\\n",
    "  .rename(columns={'date' : 'purchases_count'}) \\\n",
    "  .query('purchases_count > 1')"
   ]
  },
  {
   "cell_type": "markdown",
   "id": "0e9a82f0",
   "metadata": {},
   "source": [
    "Ответ - 2"
   ]
  }
 ],
 "metadata": {
  "kernelspec": {
   "display_name": "Python 3",
   "language": "python",
   "name": "python3"
  },
  "language_info": {
   "codemirror_mode": {
    "name": "ipython",
    "version": 3
   },
   "file_extension": ".py",
   "mimetype": "text/x-python",
   "name": "python",
   "nbconvert_exporter": "python",
   "pygments_lexer": "ipython3",
   "version": "3.9.7"
  }
 },
 "nbformat": 4,
 "nbformat_minor": 5
}
